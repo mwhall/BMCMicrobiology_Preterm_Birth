{
 "cells": [
  {
   "cell_type": "code",
   "execution_count": 1,
   "metadata": {},
   "outputs": [],
   "source": [
    "import pandas as pd\n",
    "import numpy as np\n",
    "from q2_extractor import Extractor\n",
    "from qiime2 import Artifact"
   ]
  },
  {
   "cell_type": "markdown",
   "metadata": {},
   "source": [
    "## Input Data\n",
    "Change the `alpha_depth` parameter and re-run the code to get the results for a different read depth.\n",
    "\n",
    "Higher read depth excludes more samples.\n",
    "\n",
    "Default for GitHub push is set to 1000."
   ]
  },
  {
   "cell_type": "code",
   "execution_count": 2,
   "metadata": {},
   "outputs": [],
   "source": [
    "metadata = pd.read_csv(\"data/METADATA.txt\", sep=\"\\t\", index_col=0)\n",
    "tax = Artifact.load(\"artifacts/taxonomy.qza\")\n",
    "asv_table = Artifact.load(\"artifacts/unfiltered_table.qza\")\n",
    "md = metadata\n",
    "alpha_depths = [500, 1000, 2000, 4000, 6000, 8000, 10000]\n",
    "alpha_depth = 1000\n",
    "#25 replicates were computed for the alpha diversity values\n",
    "for i in range(1,26):\n",
    "    alpha_pd = Artifact.load(\"artifacts/diversity_\" + str(alpha_depth) + \"_\" + str(i) + \"/faith_pd_vector.qza\")\n",
    "    alpha_asvs = Artifact.load(\"artifacts/diversity_\" + str(alpha_depth) + \"_\" + str(i) + \"/observed_otus_vector.qza\")\n",
    "    alpha_shannon = Artifact.load(\"artifacts/diversity_\" + str(alpha_depth) + \"_\" + str(i) + \"/shannon_vector.qza\")\n",
    "    phyd = alpha_pd.view(pd.Series)\n",
    "    phyd.name = phyd.name + \"_\" + str(i)\n",
    "    asvs = alpha_asvs.view(pd.Series)\n",
    "    asvs.name = asvs.name + \"_\" + str(i)\n",
    "    shannon = alpha_shannon.view(pd.Series)\n",
    "    shannon.name = shannon.name + \"_\" + str(i)\n",
    "    md = md.merge(phyd, left_index=True, right_index=True)\n",
    "    md = md.merge(asvs, left_index=True, right_index=True)\n",
    "    md = md.merge(shannon, left_index=True, right_index=True)"
   ]
  },
  {
   "cell_type": "code",
   "execution_count": 3,
   "metadata": {},
   "outputs": [
    {
     "data": {
      "text/html": [
       "        <script type=\"text/javascript\">\n",
       "        window.PlotlyConfig = {MathJaxConfig: 'local'};\n",
       "        if (window.MathJax) {MathJax.Hub.Config({SVG: {font: \"STIX-Web\"}});}\n",
       "        if (typeof require !== 'undefined') {\n",
       "        require.undef(\"plotly\");\n",
       "        requirejs.config({\n",
       "            paths: {\n",
       "                'plotly': ['https://cdn.plot.ly/plotly-latest.min']\n",
       "            }\n",
       "        });\n",
       "        require(['plotly'], function(Plotly) {\n",
       "            window._Plotly = Plotly;\n",
       "        });\n",
       "        }\n",
       "        </script>\n",
       "        "
      ]
     },
     "metadata": {},
     "output_type": "display_data"
    }
   ],
   "source": [
    "import plotly\n",
    "import plotly.plotly as py\n",
    "import plotly.graph_objs as go\n",
    "\n",
    "plotly.offline.init_notebook_mode(connected=True)"
   ]
  },
  {
   "cell_type": "code",
   "execution_count": 4,
   "metadata": {},
   "outputs": [],
   "source": [
    "def alpha_boxplot(metadata_category, alpha_measure):\n",
    "    data = []\n",
    "    for val in np.unique(md[metadata_category]):\n",
    "        data.append(go.Box(boxpoints='all',\n",
    "                    name=val,\n",
    "                    y=md[[alpha_measure + \"_\" + str(i) for i in range(1,26)]].where(md[metadata_category]==val).dropna().mean(axis=1))\n",
    "                    )\n",
    "    plotly.offline.iplot(go.Figure(data=data, layout=go.Layout(title=alpha_measure)))"
   ]
  },
  {
   "cell_type": "code",
   "execution_count": 5,
   "metadata": {},
   "outputs": [
    {
     "data": {
      "application/vnd.plotly.v1+json": {
       "config": {
        "linkText": "Export to plot.ly",
        "plotlyServerURL": "https://plot.ly",
        "responsive": true,
        "showLink": false
       },
       "data": [
        {
         "boxpoints": "all",
         "name": "Elective C Section",
         "type": "box",
         "uid": "7991f95a-9277-4df4-a81d-c4e1e917b017",
         "y": [
          4.700610641219999,
          1.1764533472999996,
          0.7020337734999997
         ]
        },
        {
         "boxpoints": "all",
         "name": "Emergency C Section",
         "type": "box",
         "uid": "85a1bad4-e0eb-4eb9-aff5-12d65467ddbc",
         "y": [
          1.4652606823399998,
          1.1156704844999996,
          0.8370068280599999,
          6.34733733358,
          1.9044636687799998,
          4.32251639054,
          1.1537101494599997,
          3.62680042646,
          2.7332358655,
          5.67238328626,
          6.34803174454
         ]
        },
        {
         "boxpoints": "all",
         "name": "Spontaneous vaginal",
         "type": "box",
         "uid": "3fad3fa8-4e90-408b-b79d-7c25b5b5fd84",
         "y": [
          0.7103105582999996,
          2.40658110166,
          4.985545606580001,
          7.618070107579997,
          3.62783809626,
          2.7229128805399996,
          2.41602489746,
          0.7226900914999999,
          0.7765257154999997,
          1.91805134242,
          10.934517928419998,
          2.67498310474,
          2.0482261081799997,
          2.9398264841399993,
          5.494898875780001,
          3.6616813511,
          0.7304665629399998,
          6.57368698166,
          4.0833837975,
          1.6968022394999998,
          0.9754935156599998,
          1.6625001399799997,
          2.48048517358
         ]
        },
        {
         "boxpoints": "all",
         "name": "Unknown",
         "type": "box",
         "uid": "67eea3fc-43a6-41f5-a25b-d24cde433296",
         "y": [
          2.0694897442999993,
          1.8221256578599998,
          0.9434277230199997,
          0.7628063794999997,
          0.8987141061799998,
          3.53755124818,
          1.9697624768199997,
          0.7581637488599998,
          2.93690829146,
          1.1644160472999996,
          1.0682722111,
          0.7012170375,
          0.7863272262999997,
          4.5547417253199995
         ]
        }
       ],
       "layout": {
        "title": {
         "text": "faith_pd"
        }
       }
      },
      "text/html": [
       "<div>\n",
       "        \n",
       "        \n",
       "            <div id=\"6705fe0c-05f6-4403-b1cb-3877f93555eb\" class=\"plotly-graph-div\" style=\"height:525px; width:100%;\"></div>\n",
       "            <script type=\"text/javascript\">\n",
       "                require([\"plotly\"], function(Plotly) {\n",
       "                    window.PLOTLYENV=window.PLOTLYENV || {};\n",
       "                    window.PLOTLYENV.BASE_URL='https://plot.ly';\n",
       "                    \n",
       "                if (document.getElementById(\"6705fe0c-05f6-4403-b1cb-3877f93555eb\")) {\n",
       "                    Plotly.newPlot(\n",
       "                        '6705fe0c-05f6-4403-b1cb-3877f93555eb',\n",
       "                        [{\"boxpoints\": \"all\", \"name\": \"Elective C Section\", \"type\": \"box\", \"uid\": \"b6c6a3fa-d8e0-4a4d-a3f0-06403f138e10\", \"y\": [4.700610641219999, 1.1764533472999996, 0.7020337734999997]}, {\"boxpoints\": \"all\", \"name\": \"Emergency C Section\", \"type\": \"box\", \"uid\": \"f8115bba-ad2f-47f7-a71a-7b36dae388ff\", \"y\": [1.4652606823399998, 1.1156704844999996, 0.8370068280599999, 6.34733733358, 1.9044636687799998, 4.32251639054, 1.1537101494599997, 3.62680042646, 2.7332358655, 5.67238328626, 6.34803174454]}, {\"boxpoints\": \"all\", \"name\": \"Spontaneous vaginal\", \"type\": \"box\", \"uid\": \"114d1e12-3faa-4da3-b6a8-2509aa299926\", \"y\": [0.7103105582999996, 2.40658110166, 4.985545606580001, 7.618070107579997, 3.62783809626, 2.7229128805399996, 2.41602489746, 0.7226900914999999, 0.7765257154999997, 1.91805134242, 10.934517928419998, 2.67498310474, 2.0482261081799997, 2.9398264841399993, 5.494898875780001, 3.6616813511, 0.7304665629399998, 6.57368698166, 4.0833837975, 1.6968022394999998, 0.9754935156599998, 1.6625001399799997, 2.48048517358]}, {\"boxpoints\": \"all\", \"name\": \"Unknown\", \"type\": \"box\", \"uid\": \"007ced7d-12ee-45b0-ae1c-b7ea49a91ae9\", \"y\": [2.0694897442999993, 1.8221256578599998, 0.9434277230199997, 0.7628063794999997, 0.8987141061799998, 3.53755124818, 1.9697624768199997, 0.7581637488599998, 2.93690829146, 1.1644160472999996, 1.0682722111, 0.7012170375, 0.7863272262999997, 4.5547417253199995]}],\n",
       "                        {\"title\": {\"text\": \"faith_pd\"}},\n",
       "                        {\"showLink\": false, \"linkText\": \"Export to plot.ly\", \"plotlyServerURL\": \"https://plot.ly\", \"responsive\": true}\n",
       "                    ).then(function(){\n",
       "                            \n",
       "var gd = document.getElementById('6705fe0c-05f6-4403-b1cb-3877f93555eb');\n",
       "var x = new MutationObserver(function (mutations, observer) {{\n",
       "        var display = window.getComputedStyle(gd).display;\n",
       "        if (!display || display === 'none') {{\n",
       "            console.log([gd, 'removed!']);\n",
       "            Plotly.purge(gd);\n",
       "            observer.disconnect();\n",
       "        }}\n",
       "}});\n",
       "\n",
       "// Listen for the removal of the full notebook cells\n",
       "var notebookContainer = gd.closest('#notebook-container');\n",
       "if (notebookContainer) {{\n",
       "    x.observe(notebookContainer, {childList: true});\n",
       "}}\n",
       "\n",
       "// Listen for the clearing of the current output cell\n",
       "var outputEl = gd.closest('.output');\n",
       "if (outputEl) {{\n",
       "    x.observe(outputEl, {childList: true});\n",
       "}}\n",
       "\n",
       "                        })\n",
       "                };\n",
       "                });\n",
       "            </script>\n",
       "        </div>"
      ]
     },
     "metadata": {},
     "output_type": "display_data"
    },
    {
     "data": {
      "application/vnd.plotly.v1+json": {
       "config": {
        "linkText": "Export to plot.ly",
        "plotlyServerURL": "https://plot.ly",
        "responsive": true,
        "showLink": false
       },
       "data": [
        {
         "boxpoints": "all",
         "name": "Elective C Section",
         "type": "box",
         "uid": "6c981aa2-ddf5-4f4b-964e-612539729f7b",
         "y": [
          4.031781818066112,
          3.43916374595384,
          3.358065160249323
         ]
        },
        {
         "boxpoints": "all",
         "name": "Emergency C Section",
         "type": "box",
         "uid": "c6b68481-248d-4677-a265-28e09b40c5be",
         "y": [
          3.4729649859946448,
          4.234247383431997,
          3.4337345824259815,
          4.145610369851029,
          4.4647240800935695,
          4.702058250966135,
          4.622426865059016,
          4.297983239000583,
          3.675980650744919,
          4.564128140125344,
          4.0423278267359555
         ]
        },
        {
         "boxpoints": "all",
         "name": "Spontaneous vaginal",
         "type": "box",
         "uid": "6b5059b9-4792-4559-890e-1e792802303f",
         "y": [
          3.2628311485621895,
          3.7856447628233267,
          4.924180715944117,
          6.009808553157233,
          4.07749823625763,
          4.353855690195353,
          4.298250090666488,
          4.378130438581932,
          3.722025134858435,
          5.225413228683966,
          5.575176510164056,
          3.7212424626282967,
          4.795025358307065,
          2.845203492721643,
          6.065622710472959,
          5.17615509931717,
          4.158882545875691,
          5.755528858190357,
          5.670076772145353,
          4.72488561229726,
          3.7848493647320827,
          3.5492824039597433,
          4.95120293810405
         ]
        },
        {
         "boxpoints": "all",
         "name": "Unknown",
         "type": "box",
         "uid": "b6d56896-aa4f-49e9-865b-259c39d25f4d",
         "y": [
          4.170713917921414,
          4.191245650379347,
          4.564612446952457,
          2.699595759976366,
          3.8334856765560583,
          4.200897736936532,
          4.459240583732696,
          3.9551460771167264,
          3.8982562030034558,
          3.2146009672342855,
          4.4730157435433755,
          3.916869876706544,
          3.956803120705408,
          3.3933773044206172
         ]
        }
       ],
       "layout": {
        "title": {
         "text": "shannon"
        }
       }
      },
      "text/html": [
       "<div>\n",
       "        \n",
       "        \n",
       "            <div id=\"d1c403c6-9c1c-4d94-8ab0-bf23552c006c\" class=\"plotly-graph-div\" style=\"height:525px; width:100%;\"></div>\n",
       "            <script type=\"text/javascript\">\n",
       "                require([\"plotly\"], function(Plotly) {\n",
       "                    window.PLOTLYENV=window.PLOTLYENV || {};\n",
       "                    window.PLOTLYENV.BASE_URL='https://plot.ly';\n",
       "                    \n",
       "                if (document.getElementById(\"d1c403c6-9c1c-4d94-8ab0-bf23552c006c\")) {\n",
       "                    Plotly.newPlot(\n",
       "                        'd1c403c6-9c1c-4d94-8ab0-bf23552c006c',\n",
       "                        [{\"boxpoints\": \"all\", \"name\": \"Elective C Section\", \"type\": \"box\", \"uid\": \"23760ef5-9837-43b5-a135-b563ce0353ba\", \"y\": [4.031781818066112, 3.43916374595384, 3.358065160249323]}, {\"boxpoints\": \"all\", \"name\": \"Emergency C Section\", \"type\": \"box\", \"uid\": \"ca340bfc-a9e0-4d7a-a29f-93b715c4f989\", \"y\": [3.4729649859946448, 4.234247383431997, 3.4337345824259815, 4.145610369851029, 4.4647240800935695, 4.702058250966135, 4.622426865059016, 4.297983239000583, 3.675980650744919, 4.564128140125344, 4.0423278267359555]}, {\"boxpoints\": \"all\", \"name\": \"Spontaneous vaginal\", \"type\": \"box\", \"uid\": \"9651efd6-0ec9-4dd2-ad61-19ffb6b32a71\", \"y\": [3.2628311485621895, 3.7856447628233267, 4.924180715944117, 6.009808553157233, 4.07749823625763, 4.353855690195353, 4.298250090666488, 4.378130438581932, 3.722025134858435, 5.225413228683966, 5.575176510164056, 3.7212424626282967, 4.795025358307065, 2.845203492721643, 6.065622710472959, 5.17615509931717, 4.158882545875691, 5.755528858190357, 5.670076772145353, 4.72488561229726, 3.7848493647320827, 3.5492824039597433, 4.95120293810405]}, {\"boxpoints\": \"all\", \"name\": \"Unknown\", \"type\": \"box\", \"uid\": \"81441e3d-054d-45d8-9b4f-f3c0a831b7a0\", \"y\": [4.170713917921414, 4.191245650379347, 4.564612446952457, 2.699595759976366, 3.8334856765560583, 4.200897736936532, 4.459240583732696, 3.9551460771167264, 3.8982562030034558, 3.2146009672342855, 4.4730157435433755, 3.916869876706544, 3.956803120705408, 3.3933773044206172]}],\n",
       "                        {\"title\": {\"text\": \"shannon\"}},\n",
       "                        {\"showLink\": false, \"linkText\": \"Export to plot.ly\", \"plotlyServerURL\": \"https://plot.ly\", \"responsive\": true}\n",
       "                    ).then(function(){\n",
       "                            \n",
       "var gd = document.getElementById('d1c403c6-9c1c-4d94-8ab0-bf23552c006c');\n",
       "var x = new MutationObserver(function (mutations, observer) {{\n",
       "        var display = window.getComputedStyle(gd).display;\n",
       "        if (!display || display === 'none') {{\n",
       "            console.log([gd, 'removed!']);\n",
       "            Plotly.purge(gd);\n",
       "            observer.disconnect();\n",
       "        }}\n",
       "}});\n",
       "\n",
       "// Listen for the removal of the full notebook cells\n",
       "var notebookContainer = gd.closest('#notebook-container');\n",
       "if (notebookContainer) {{\n",
       "    x.observe(notebookContainer, {childList: true});\n",
       "}}\n",
       "\n",
       "// Listen for the clearing of the current output cell\n",
       "var outputEl = gd.closest('.output');\n",
       "if (outputEl) {{\n",
       "    x.observe(outputEl, {childList: true});\n",
       "}}\n",
       "\n",
       "                        })\n",
       "                };\n",
       "                });\n",
       "            </script>\n",
       "        </div>"
      ]
     },
     "metadata": {},
     "output_type": "display_data"
    },
    {
     "data": {
      "application/vnd.plotly.v1+json": {
       "config": {
        "linkText": "Export to plot.ly",
        "plotlyServerURL": "https://plot.ly",
        "responsive": true,
        "showLink": false
       },
       "data": [
        {
         "boxpoints": "all",
         "name": "Elective C Section",
         "type": "box",
         "uid": "702cae56-4def-402a-b169-31beb5fc4954",
         "y": [
          27.44,
          16.76,
          11
         ]
        },
        {
         "boxpoints": "all",
         "name": "Emergency C Section",
         "type": "box",
         "uid": "9370bc71-fa1a-485b-96dc-f7dd6904c7c5",
         "y": [
          16.4,
          23,
          12.92,
          30.32,
          44.44,
          41.96,
          30.28,
          67.24,
          27.52,
          80.72,
          30.32
         ]
        },
        {
         "boxpoints": "all",
         "name": "Spontaneous vaginal",
         "type": "box",
         "uid": "75a1a7d2-ffd5-40d7-853a-4fe5edd8cf82",
         "y": [
          11.04,
          31.12,
          55.16,
          84.8,
          56.96,
          35.92,
          32.32,
          27,
          15,
          55.6,
          121.12,
          32.6,
          41.72,
          12.4,
          86.56,
          74.08,
          28.8,
          128.76,
          58,
          30,
          21.24,
          17.6,
          43.72
         ]
        },
        {
         "boxpoints": "all",
         "name": "Unknown",
         "type": "box",
         "uid": "d2dfe59e-2169-4ca4-89b4-c6b0aa7cfa3d",
         "y": [
          25.96,
          31.36,
          27.68,
          8,
          28.04,
          68.84,
          35.04,
          17.96,
          42.16,
          11.2,
          32.08,
          17,
          18.96,
          14.92
         ]
        }
       ],
       "layout": {
        "title": {
         "text": "observed_otus"
        }
       }
      },
      "text/html": [
       "<div>\n",
       "        \n",
       "        \n",
       "            <div id=\"bba96469-2fe1-4b41-8400-8d93efb9a9a3\" class=\"plotly-graph-div\" style=\"height:525px; width:100%;\"></div>\n",
       "            <script type=\"text/javascript\">\n",
       "                require([\"plotly\"], function(Plotly) {\n",
       "                    window.PLOTLYENV=window.PLOTLYENV || {};\n",
       "                    window.PLOTLYENV.BASE_URL='https://plot.ly';\n",
       "                    \n",
       "                if (document.getElementById(\"bba96469-2fe1-4b41-8400-8d93efb9a9a3\")) {\n",
       "                    Plotly.newPlot(\n",
       "                        'bba96469-2fe1-4b41-8400-8d93efb9a9a3',\n",
       "                        [{\"boxpoints\": \"all\", \"name\": \"Elective C Section\", \"type\": \"box\", \"uid\": \"bd222e27-2521-449b-8e31-c9237730b084\", \"y\": [27.44, 16.76, 11.0]}, {\"boxpoints\": \"all\", \"name\": \"Emergency C Section\", \"type\": \"box\", \"uid\": \"82afcab7-3b15-4512-a4bc-2bbdb59f7d9d\", \"y\": [16.4, 23.0, 12.92, 30.32, 44.44, 41.96, 30.28, 67.24, 27.52, 80.72, 30.32]}, {\"boxpoints\": \"all\", \"name\": \"Spontaneous vaginal\", \"type\": \"box\", \"uid\": \"25a0ac09-39e1-416a-9986-97339e1bea83\", \"y\": [11.04, 31.12, 55.16, 84.8, 56.96, 35.92, 32.32, 27.0, 15.0, 55.6, 121.12, 32.6, 41.72, 12.4, 86.56, 74.08, 28.8, 128.76, 58.0, 30.0, 21.24, 17.6, 43.72]}, {\"boxpoints\": \"all\", \"name\": \"Unknown\", \"type\": \"box\", \"uid\": \"d1f264e4-fa41-46a5-9c70-42c28e5c816d\", \"y\": [25.96, 31.36, 27.68, 8.0, 28.04, 68.84, 35.04, 17.96, 42.16, 11.2, 32.08, 17.0, 18.96, 14.92]}],\n",
       "                        {\"title\": {\"text\": \"observed_otus\"}},\n",
       "                        {\"showLink\": false, \"linkText\": \"Export to plot.ly\", \"plotlyServerURL\": \"https://plot.ly\", \"responsive\": true}\n",
       "                    ).then(function(){\n",
       "                            \n",
       "var gd = document.getElementById('bba96469-2fe1-4b41-8400-8d93efb9a9a3');\n",
       "var x = new MutationObserver(function (mutations, observer) {{\n",
       "        var display = window.getComputedStyle(gd).display;\n",
       "        if (!display || display === 'none') {{\n",
       "            console.log([gd, 'removed!']);\n",
       "            Plotly.purge(gd);\n",
       "            observer.disconnect();\n",
       "        }}\n",
       "}});\n",
       "\n",
       "// Listen for the removal of the full notebook cells\n",
       "var notebookContainer = gd.closest('#notebook-container');\n",
       "if (notebookContainer) {{\n",
       "    x.observe(notebookContainer, {childList: true});\n",
       "}}\n",
       "\n",
       "// Listen for the clearing of the current output cell\n",
       "var outputEl = gd.closest('.output');\n",
       "if (outputEl) {{\n",
       "    x.observe(outputEl, {childList: true});\n",
       "}}\n",
       "\n",
       "                        })\n",
       "                };\n",
       "                });\n",
       "            </script>\n",
       "        </div>"
      ]
     },
     "metadata": {},
     "output_type": "display_data"
    }
   ],
   "source": [
    "alpha_boxplot('mode_of_delivery', 'faith_pd')\n",
    "alpha_boxplot('mode_of_delivery', 'shannon')\n",
    "alpha_boxplot('mode_of_delivery', 'observed_otus')"
   ]
  },
  {
   "cell_type": "code",
   "execution_count": 6,
   "metadata": {},
   "outputs": [
    {
     "data": {
      "application/vnd.plotly.v1+json": {
       "config": {
        "linkText": "Export to plot.ly",
        "plotlyServerURL": "https://plot.ly",
        "responsive": true,
        "showLink": false
       },
       "data": [
        {
         "boxpoints": "all",
         "name": "A  Positive",
         "type": "box",
         "uid": "866b16aa-09ed-4162-8593-78ad26b5b8e4",
         "y": [
          1.91805134242,
          3.62680042646,
          0.7863272262999997
         ]
        },
        {
         "boxpoints": "all",
         "name": "A Positive",
         "type": "box",
         "uid": "bb385ede-a698-436c-a89c-ba3ce95a8911",
         "y": [
          0.7103105582999996,
          0.7628063794999997,
          7.618070107579997,
          3.62783809626,
          2.41602489746,
          3.53755124818,
          0.7581637488599998,
          1.1644160472999996,
          2.9398264841399993,
          0.8370068280599999,
          1.1764533472999996,
          0.7012170375,
          1.6625001399799997
         ]
        },
        {
         "boxpoints": "all",
         "name": "AB  Positive",
         "type": "box",
         "uid": "d99e0598-e274-4016-b301-57e879bbbd93",
         "y": [
          1.4652606823399998
         ]
        },
        {
         "boxpoints": "all",
         "name": "AB Positive",
         "type": "box",
         "uid": "07fdf968-2760-4704-8e9a-d85a8047e945",
         "y": [
          4.32251639054
         ]
        },
        {
         "boxpoints": "all",
         "name": "B Positive",
         "type": "box",
         "uid": "21e566fd-2ff9-4ec8-9240-d90d1d60a451",
         "y": [
          4.985545606580001,
          10.934517928419998,
          3.6616813511,
          6.57368698166,
          0.7020337734999997,
          1.6968022394999998,
          2.48048517358
         ]
        },
        {
         "boxpoints": "all",
         "name": "O Negative",
         "type": "box",
         "uid": "90ed79bc-dc2d-4d62-8584-7121d5013188",
         "y": [
          1.8221256578599998
         ]
        },
        {
         "boxpoints": "all",
         "name": "O Positive",
         "type": "box",
         "uid": "b42102b2-10d2-4d46-a0c2-0d604d133de5",
         "y": [
          2.0694897442999993,
          1.1156704844999996,
          0.9434277230199997,
          2.40658110166,
          0.8987141061799998,
          2.7229128805399996,
          4.700610641219999,
          0.7226900914999999,
          1.9697624768199997,
          0.7765257154999997,
          2.93690829146,
          2.67498310474,
          2.0482261081799997,
          5.494898875780001,
          1.0682722111,
          0.7304665629399998,
          6.34733733358,
          1.9044636687799998,
          4.0833837975,
          1.1537101494599997,
          0.9754935156599998,
          4.5547417253199995,
          2.7332358655,
          5.67238328626,
          6.34803174454
         ]
        }
       ],
       "layout": {
        "title": {
         "text": "faith_pd"
        }
       }
      },
      "text/html": [
       "<div>\n",
       "        \n",
       "        \n",
       "            <div id=\"612197df-c5e3-4ebe-ac12-bdce80fcc608\" class=\"plotly-graph-div\" style=\"height:525px; width:100%;\"></div>\n",
       "            <script type=\"text/javascript\">\n",
       "                require([\"plotly\"], function(Plotly) {\n",
       "                    window.PLOTLYENV=window.PLOTLYENV || {};\n",
       "                    window.PLOTLYENV.BASE_URL='https://plot.ly';\n",
       "                    \n",
       "                if (document.getElementById(\"612197df-c5e3-4ebe-ac12-bdce80fcc608\")) {\n",
       "                    Plotly.newPlot(\n",
       "                        '612197df-c5e3-4ebe-ac12-bdce80fcc608',\n",
       "                        [{\"boxpoints\": \"all\", \"name\": \"A  Positive\", \"type\": \"box\", \"uid\": \"18d03b4d-497f-49cc-a8ca-0b008da350ad\", \"y\": [1.91805134242, 3.62680042646, 0.7863272262999997]}, {\"boxpoints\": \"all\", \"name\": \"A Positive\", \"type\": \"box\", \"uid\": \"e21d6d18-147e-46ee-ae42-014584a68e27\", \"y\": [0.7103105582999996, 0.7628063794999997, 7.618070107579997, 3.62783809626, 2.41602489746, 3.53755124818, 0.7581637488599998, 1.1644160472999996, 2.9398264841399993, 0.8370068280599999, 1.1764533472999996, 0.7012170375, 1.6625001399799997]}, {\"boxpoints\": \"all\", \"name\": \"AB  Positive\", \"type\": \"box\", \"uid\": \"62324b46-9926-496c-a0cb-429132962bf2\", \"y\": [1.4652606823399998]}, {\"boxpoints\": \"all\", \"name\": \"AB Positive\", \"type\": \"box\", \"uid\": \"29ab08b8-bb49-40fa-a1e5-97edaeed6c2b\", \"y\": [4.32251639054]}, {\"boxpoints\": \"all\", \"name\": \"B Positive\", \"type\": \"box\", \"uid\": \"a8bea60f-89e7-4f30-a5b3-b5c32855b642\", \"y\": [4.985545606580001, 10.934517928419998, 3.6616813511, 6.57368698166, 0.7020337734999997, 1.6968022394999998, 2.48048517358]}, {\"boxpoints\": \"all\", \"name\": \"O Negative\", \"type\": \"box\", \"uid\": \"aa49437f-1e4c-465d-bf2b-8c11a84d0ce4\", \"y\": [1.8221256578599998]}, {\"boxpoints\": \"all\", \"name\": \"O Positive\", \"type\": \"box\", \"uid\": \"5b196f4e-3165-4321-b5fb-1f2d1a450bbc\", \"y\": [2.0694897442999993, 1.1156704844999996, 0.9434277230199997, 2.40658110166, 0.8987141061799998, 2.7229128805399996, 4.700610641219999, 0.7226900914999999, 1.9697624768199997, 0.7765257154999997, 2.93690829146, 2.67498310474, 2.0482261081799997, 5.494898875780001, 1.0682722111, 0.7304665629399998, 6.34733733358, 1.9044636687799998, 4.0833837975, 1.1537101494599997, 0.9754935156599998, 4.5547417253199995, 2.7332358655, 5.67238328626, 6.34803174454]}],\n",
       "                        {\"title\": {\"text\": \"faith_pd\"}},\n",
       "                        {\"showLink\": false, \"linkText\": \"Export to plot.ly\", \"plotlyServerURL\": \"https://plot.ly\", \"responsive\": true}\n",
       "                    ).then(function(){\n",
       "                            \n",
       "var gd = document.getElementById('612197df-c5e3-4ebe-ac12-bdce80fcc608');\n",
       "var x = new MutationObserver(function (mutations, observer) {{\n",
       "        var display = window.getComputedStyle(gd).display;\n",
       "        if (!display || display === 'none') {{\n",
       "            console.log([gd, 'removed!']);\n",
       "            Plotly.purge(gd);\n",
       "            observer.disconnect();\n",
       "        }}\n",
       "}});\n",
       "\n",
       "// Listen for the removal of the full notebook cells\n",
       "var notebookContainer = gd.closest('#notebook-container');\n",
       "if (notebookContainer) {{\n",
       "    x.observe(notebookContainer, {childList: true});\n",
       "}}\n",
       "\n",
       "// Listen for the clearing of the current output cell\n",
       "var outputEl = gd.closest('.output');\n",
       "if (outputEl) {{\n",
       "    x.observe(outputEl, {childList: true});\n",
       "}}\n",
       "\n",
       "                        })\n",
       "                };\n",
       "                });\n",
       "            </script>\n",
       "        </div>"
      ]
     },
     "metadata": {},
     "output_type": "display_data"
    },
    {
     "data": {
      "application/vnd.plotly.v1+json": {
       "config": {
        "linkText": "Export to plot.ly",
        "plotlyServerURL": "https://plot.ly",
        "responsive": true,
        "showLink": false
       },
       "data": [
        {
         "boxpoints": "all",
         "name": "A  Positive",
         "type": "box",
         "uid": "81e482dd-22b7-4691-8ad2-ae1f5ccc439e",
         "y": [
          5.225413228683966,
          4.297983239000583,
          3.956803120705408
         ]
        },
        {
         "boxpoints": "all",
         "name": "A Positive",
         "type": "box",
         "uid": "fabf0896-94a9-4019-80ff-dcad4a04f186",
         "y": [
          3.2628311485621895,
          2.699595759976366,
          6.009808553157233,
          4.07749823625763,
          4.298250090666488,
          4.200897736936532,
          3.9551460771167264,
          3.2146009672342855,
          2.845203492721643,
          3.4337345824259815,
          3.43916374595384,
          3.916869876706544,
          3.5492824039597433
         ]
        },
        {
         "boxpoints": "all",
         "name": "AB  Positive",
         "type": "box",
         "uid": "9d0e6de8-7e25-47de-ac51-16a5e705b9a5",
         "y": [
          3.4729649859946448
         ]
        },
        {
         "boxpoints": "all",
         "name": "AB Positive",
         "type": "box",
         "uid": "58544b31-7e80-475c-bf02-e6bfd1f31df4",
         "y": [
          4.702058250966135
         ]
        },
        {
         "boxpoints": "all",
         "name": "B Positive",
         "type": "box",
         "uid": "236d3786-ccff-4d35-a78f-f605c8449cf9",
         "y": [
          4.924180715944117,
          5.575176510164056,
          5.17615509931717,
          5.755528858190357,
          3.358065160249323,
          4.72488561229726,
          4.95120293810405
         ]
        },
        {
         "boxpoints": "all",
         "name": "O Negative",
         "type": "box",
         "uid": "c4d9c4fe-2734-477c-a961-1256149c7dea",
         "y": [
          4.191245650379347
         ]
        },
        {
         "boxpoints": "all",
         "name": "O Positive",
         "type": "box",
         "uid": "a16d7e25-5464-486f-a882-70caec071257",
         "y": [
          4.170713917921414,
          4.234247383431997,
          4.564612446952457,
          3.7856447628233267,
          3.8334856765560583,
          4.353855690195353,
          4.031781818066112,
          4.378130438581932,
          4.459240583732696,
          3.722025134858435,
          3.8982562030034558,
          3.7212424626282967,
          4.795025358307065,
          6.065622710472959,
          4.4730157435433755,
          4.158882545875691,
          4.145610369851029,
          4.4647240800935695,
          5.670076772145353,
          4.622426865059016,
          3.7848493647320827,
          3.3933773044206172,
          3.675980650744919,
          4.564128140125344,
          4.0423278267359555
         ]
        }
       ],
       "layout": {
        "title": {
         "text": "shannon"
        }
       }
      },
      "text/html": [
       "<div>\n",
       "        \n",
       "        \n",
       "            <div id=\"917737f9-e53b-49b3-b861-05785148a7b4\" class=\"plotly-graph-div\" style=\"height:525px; width:100%;\"></div>\n",
       "            <script type=\"text/javascript\">\n",
       "                require([\"plotly\"], function(Plotly) {\n",
       "                    window.PLOTLYENV=window.PLOTLYENV || {};\n",
       "                    window.PLOTLYENV.BASE_URL='https://plot.ly';\n",
       "                    \n",
       "                if (document.getElementById(\"917737f9-e53b-49b3-b861-05785148a7b4\")) {\n",
       "                    Plotly.newPlot(\n",
       "                        '917737f9-e53b-49b3-b861-05785148a7b4',\n",
       "                        [{\"boxpoints\": \"all\", \"name\": \"A  Positive\", \"type\": \"box\", \"uid\": \"6487ac07-d5de-4f2e-806b-6b7a065a3b94\", \"y\": [5.225413228683966, 4.297983239000583, 3.956803120705408]}, {\"boxpoints\": \"all\", \"name\": \"A Positive\", \"type\": \"box\", \"uid\": \"eaa286d2-4b16-4a6c-a4a4-8a1eace9d899\", \"y\": [3.2628311485621895, 2.699595759976366, 6.009808553157233, 4.07749823625763, 4.298250090666488, 4.200897736936532, 3.9551460771167264, 3.2146009672342855, 2.845203492721643, 3.4337345824259815, 3.43916374595384, 3.916869876706544, 3.5492824039597433]}, {\"boxpoints\": \"all\", \"name\": \"AB  Positive\", \"type\": \"box\", \"uid\": \"eef9dfda-aed2-4062-87a7-5d54fb7bd90f\", \"y\": [3.4729649859946448]}, {\"boxpoints\": \"all\", \"name\": \"AB Positive\", \"type\": \"box\", \"uid\": \"72db2540-15d8-4541-800e-8009e6aaca51\", \"y\": [4.702058250966135]}, {\"boxpoints\": \"all\", \"name\": \"B Positive\", \"type\": \"box\", \"uid\": \"989f0a20-2610-4faf-af44-ba07294cc470\", \"y\": [4.924180715944117, 5.575176510164056, 5.17615509931717, 5.755528858190357, 3.358065160249323, 4.72488561229726, 4.95120293810405]}, {\"boxpoints\": \"all\", \"name\": \"O Negative\", \"type\": \"box\", \"uid\": \"ee8b5714-192b-42a3-b476-b9e4b074a9a4\", \"y\": [4.191245650379347]}, {\"boxpoints\": \"all\", \"name\": \"O Positive\", \"type\": \"box\", \"uid\": \"f5b0b8fc-5e54-428f-872a-624d6d23fc0a\", \"y\": [4.170713917921414, 4.234247383431997, 4.564612446952457, 3.7856447628233267, 3.8334856765560583, 4.353855690195353, 4.031781818066112, 4.378130438581932, 4.459240583732696, 3.722025134858435, 3.8982562030034558, 3.7212424626282967, 4.795025358307065, 6.065622710472959, 4.4730157435433755, 4.158882545875691, 4.145610369851029, 4.4647240800935695, 5.670076772145353, 4.622426865059016, 3.7848493647320827, 3.3933773044206172, 3.675980650744919, 4.564128140125344, 4.0423278267359555]}],\n",
       "                        {\"title\": {\"text\": \"shannon\"}},\n",
       "                        {\"showLink\": false, \"linkText\": \"Export to plot.ly\", \"plotlyServerURL\": \"https://plot.ly\", \"responsive\": true}\n",
       "                    ).then(function(){\n",
       "                            \n",
       "var gd = document.getElementById('917737f9-e53b-49b3-b861-05785148a7b4');\n",
       "var x = new MutationObserver(function (mutations, observer) {{\n",
       "        var display = window.getComputedStyle(gd).display;\n",
       "        if (!display || display === 'none') {{\n",
       "            console.log([gd, 'removed!']);\n",
       "            Plotly.purge(gd);\n",
       "            observer.disconnect();\n",
       "        }}\n",
       "}});\n",
       "\n",
       "// Listen for the removal of the full notebook cells\n",
       "var notebookContainer = gd.closest('#notebook-container');\n",
       "if (notebookContainer) {{\n",
       "    x.observe(notebookContainer, {childList: true});\n",
       "}}\n",
       "\n",
       "// Listen for the clearing of the current output cell\n",
       "var outputEl = gd.closest('.output');\n",
       "if (outputEl) {{\n",
       "    x.observe(outputEl, {childList: true});\n",
       "}}\n",
       "\n",
       "                        })\n",
       "                };\n",
       "                });\n",
       "            </script>\n",
       "        </div>"
      ]
     },
     "metadata": {},
     "output_type": "display_data"
    },
    {
     "data": {
      "application/vnd.plotly.v1+json": {
       "config": {
        "linkText": "Export to plot.ly",
        "plotlyServerURL": "https://plot.ly",
        "responsive": true,
        "showLink": false
       },
       "data": [
        {
         "boxpoints": "all",
         "name": "A  Positive",
         "type": "box",
         "uid": "101de578-91c9-45bc-b8c4-47b2b251ee0b",
         "y": [
          55.6,
          67.24,
          18.96
         ]
        },
        {
         "boxpoints": "all",
         "name": "A Positive",
         "type": "box",
         "uid": "3e49273f-157b-46ab-b333-b9c84dbdf12b",
         "y": [
          11.04,
          8,
          84.8,
          56.96,
          32.32,
          68.84,
          17.96,
          11.2,
          12.4,
          12.92,
          16.76,
          17,
          17.6
         ]
        },
        {
         "boxpoints": "all",
         "name": "AB  Positive",
         "type": "box",
         "uid": "4413e22e-8e80-4bc2-856f-acd66a19efdc",
         "y": [
          16.4
         ]
        },
        {
         "boxpoints": "all",
         "name": "AB Positive",
         "type": "box",
         "uid": "0f473817-238a-4147-be9c-4643516811d6",
         "y": [
          41.96
         ]
        },
        {
         "boxpoints": "all",
         "name": "B Positive",
         "type": "box",
         "uid": "92b41429-d09e-4fd7-a1d3-b3b77fc9395e",
         "y": [
          55.16,
          121.12,
          74.08,
          128.76,
          11,
          30,
          43.72
         ]
        },
        {
         "boxpoints": "all",
         "name": "O Negative",
         "type": "box",
         "uid": "4a73dfa5-2342-4cde-adc2-9f3e3588d519",
         "y": [
          31.36
         ]
        },
        {
         "boxpoints": "all",
         "name": "O Positive",
         "type": "box",
         "uid": "2a585fae-9832-4e5b-9fed-321f48b4d14b",
         "y": [
          25.96,
          23,
          27.68,
          31.12,
          28.04,
          35.92,
          27.44,
          27,
          35.04,
          15,
          42.16,
          32.6,
          41.72,
          86.56,
          32.08,
          28.8,
          30.32,
          44.44,
          58,
          30.28,
          21.24,
          14.92,
          27.52,
          80.72,
          30.32
         ]
        }
       ],
       "layout": {
        "title": {
         "text": "observed_otus"
        }
       }
      },
      "text/html": [
       "<div>\n",
       "        \n",
       "        \n",
       "            <div id=\"4cb23a88-2dd4-4af9-b64a-5f71b95a2d77\" class=\"plotly-graph-div\" style=\"height:525px; width:100%;\"></div>\n",
       "            <script type=\"text/javascript\">\n",
       "                require([\"plotly\"], function(Plotly) {\n",
       "                    window.PLOTLYENV=window.PLOTLYENV || {};\n",
       "                    window.PLOTLYENV.BASE_URL='https://plot.ly';\n",
       "                    \n",
       "                if (document.getElementById(\"4cb23a88-2dd4-4af9-b64a-5f71b95a2d77\")) {\n",
       "                    Plotly.newPlot(\n",
       "                        '4cb23a88-2dd4-4af9-b64a-5f71b95a2d77',\n",
       "                        [{\"boxpoints\": \"all\", \"name\": \"A  Positive\", \"type\": \"box\", \"uid\": \"1b61275c-0b61-4b53-b819-3cd7ca17708d\", \"y\": [55.6, 67.24, 18.96]}, {\"boxpoints\": \"all\", \"name\": \"A Positive\", \"type\": \"box\", \"uid\": \"77e3fd58-d87e-4eb4-bf91-5f9c71d4651f\", \"y\": [11.04, 8.0, 84.8, 56.96, 32.32, 68.84, 17.96, 11.2, 12.4, 12.92, 16.76, 17.0, 17.6]}, {\"boxpoints\": \"all\", \"name\": \"AB  Positive\", \"type\": \"box\", \"uid\": \"3caefc88-ec80-4272-a500-b5077d46eaf1\", \"y\": [16.4]}, {\"boxpoints\": \"all\", \"name\": \"AB Positive\", \"type\": \"box\", \"uid\": \"8aa1d87d-2073-4f6a-8eb0-6b3f66d88640\", \"y\": [41.96]}, {\"boxpoints\": \"all\", \"name\": \"B Positive\", \"type\": \"box\", \"uid\": \"1250b7f6-cdf1-46ac-93e1-c2fca3388d9c\", \"y\": [55.16, 121.12, 74.08, 128.76, 11.0, 30.0, 43.72]}, {\"boxpoints\": \"all\", \"name\": \"O Negative\", \"type\": \"box\", \"uid\": \"c01516af-d541-4127-b9c6-cd53f05d0685\", \"y\": [31.36]}, {\"boxpoints\": \"all\", \"name\": \"O Positive\", \"type\": \"box\", \"uid\": \"f747083d-e4b2-4a40-865c-353b801c2e2f\", \"y\": [25.96, 23.0, 27.68, 31.12, 28.04, 35.92, 27.44, 27.0, 35.04, 15.0, 42.16, 32.6, 41.72, 86.56, 32.08, 28.8, 30.32, 44.44, 58.0, 30.28, 21.24, 14.92, 27.52, 80.72, 30.32]}],\n",
       "                        {\"title\": {\"text\": \"observed_otus\"}},\n",
       "                        {\"showLink\": false, \"linkText\": \"Export to plot.ly\", \"plotlyServerURL\": \"https://plot.ly\", \"responsive\": true}\n",
       "                    ).then(function(){\n",
       "                            \n",
       "var gd = document.getElementById('4cb23a88-2dd4-4af9-b64a-5f71b95a2d77');\n",
       "var x = new MutationObserver(function (mutations, observer) {{\n",
       "        var display = window.getComputedStyle(gd).display;\n",
       "        if (!display || display === 'none') {{\n",
       "            console.log([gd, 'removed!']);\n",
       "            Plotly.purge(gd);\n",
       "            observer.disconnect();\n",
       "        }}\n",
       "}});\n",
       "\n",
       "// Listen for the removal of the full notebook cells\n",
       "var notebookContainer = gd.closest('#notebook-container');\n",
       "if (notebookContainer) {{\n",
       "    x.observe(notebookContainer, {childList: true});\n",
       "}}\n",
       "\n",
       "// Listen for the clearing of the current output cell\n",
       "var outputEl = gd.closest('.output');\n",
       "if (outputEl) {{\n",
       "    x.observe(outputEl, {childList: true});\n",
       "}}\n",
       "\n",
       "                        })\n",
       "                };\n",
       "                });\n",
       "            </script>\n",
       "        </div>"
      ]
     },
     "metadata": {},
     "output_type": "display_data"
    }
   ],
   "source": [
    "alpha_boxplot('blood_group', 'faith_pd')\n",
    "alpha_boxplot('blood_group', 'shannon')\n",
    "alpha_boxplot('blood_group', 'observed_otus')"
   ]
  },
  {
   "cell_type": "code",
   "execution_count": null,
   "metadata": {},
   "outputs": [],
   "source": []
  }
 ],
 "metadata": {
  "kernelspec": {
   "display_name": "Environment (conda_qiime2-2019.4)",
   "language": "python",
   "name": "conda_qiime2-2019.4"
  },
  "language_info": {
   "codemirror_mode": {
    "name": "ipython",
    "version": 3
   },
   "file_extension": ".py",
   "mimetype": "text/x-python",
   "name": "python",
   "nbconvert_exporter": "python",
   "pygments_lexer": "ipython3",
   "version": "3.6.7"
  }
 },
 "nbformat": 4,
 "nbformat_minor": 2
}
