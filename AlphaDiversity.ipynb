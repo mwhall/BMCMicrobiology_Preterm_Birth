{
 "cells": [
  {
   "cell_type": "code",
   "execution_count": 1,
   "metadata": {},
   "outputs": [],
   "source": [
    "import pandas as pd\n",
    "import numpy as np\n",
    "from q2_extractor import Extractor\n",
    "from qiime2 import Artifact"
   ]
  },
  {
   "cell_type": "markdown",
   "metadata": {},
   "source": [
    "## Input Data\n",
    "Change the `alpha_depth` parameter and re-run the code to get the results for a different read depth.\n",
    "\n",
    "Higher read depth excludes more samples.\n",
    "\n",
    "Default for GitHub push is set to 1000."
   ]
  },
  {
   "cell_type": "code",
   "execution_count": 2,
   "metadata": {},
   "outputs": [],
   "source": [
    "metadata = pd.read_csv(\"data/METADATA.txt\", sep=\"\\t\", index_col=0)\n",
    "tax = Artifact.load(\"artifacts/taxonomy.qza\")\n",
    "asv_table = Artifact.load(\"artifacts/unfiltered_table.qza\")\n",
    "md = metadata\n",
    "alpha_depths = [500, 1000, 2000, 4000, 6000, 8000, 10000]\n",
    "alpha_depth = 1000\n",
    "#25 replicates were computed for the alpha diversity values\n",
    "for i in range(1,26):\n",
    "    alpha_pd = Artifact.load(\"artifacts/diversity_\" + str(alpha_depth) + \"_\" + str(i) + \"/faith_pd_vector.qza\")\n",
    "    alpha_asvs = Artifact.load(\"artifacts/diversity_\" + str(alpha_depth) + \"_\" + str(i) + \"/observed_otus_vector.qza\")\n",
    "    alpha_shannon = Artifact.load(\"artifacts/diversity_\" + str(alpha_depth) + \"_\" + str(i) + \"/shannon_vector.qza\")\n",
    "    phyd = alpha_pd.view(pd.Series)\n",
    "    phyd.name = phyd.name + \"_\" + str(i)\n",
    "    asvs = alpha_asvs.view(pd.Series)\n",
    "    asvs.name = asvs.name + \"_\" + str(i)\n",
    "    shannon = alpha_shannon.view(pd.Series)\n",
    "    shannon.name = shannon.name + \"_\" + str(i)\n",
    "    md = md.merge(phyd, left_index=True, right_index=True)\n",
    "    md = md.merge(asvs, left_index=True, right_index=True)\n",
    "    md = md.merge(shannon, left_index=True, right_index=True)"
   ]
  },
  {
   "cell_type": "code",
   "execution_count": 3,
   "metadata": {},
   "outputs": [
    {
     "data": {
      "text/html": [
       "        <script type=\"text/javascript\">\n",
       "        window.PlotlyConfig = {MathJaxConfig: 'local'};\n",
       "        if (window.MathJax) {MathJax.Hub.Config({SVG: {font: \"STIX-Web\"}});}\n",
       "        if (typeof require !== 'undefined') {\n",
       "        require.undef(\"plotly\");\n",
       "        requirejs.config({\n",
       "            paths: {\n",
       "                'plotly': ['https://cdn.plot.ly/plotly-latest.min']\n",
       "            }\n",
       "        });\n",
       "        require(['plotly'], function(Plotly) {\n",
       "            window._Plotly = Plotly;\n",
       "        });\n",
       "        }\n",
       "        </script>\n",
       "        "
      ]
     },
     "metadata": {},
     "output_type": "display_data"
    }
   ],
   "source": [
    "import plotly\n",
    "import plotly.plotly as py\n",
    "import plotly.graph_objs as go\n",
    "\n",
    "plotly.offline.init_notebook_mode(connected=True)"
   ]
  },
  {
   "cell_type": "code",
   "execution_count": 16,
   "metadata": {},
   "outputs": [],
   "source": [
    "def alpha_boxplot(metadata_category, alpha_measure):\n",
    "    data = []\n",
    "    for val in np.unique(md[metadata_category]):\n",
    "        data.append(go.Box(boxpoints='all',\n",
    "                    name=val,\n",
    "                    y=md[[alpha_measure + \"_\" + str(i) for i in range(1,26)]].where(md[metadata_category]==val).dropna().mean(axis=1))\n",
    "                    )\n",
    "    plotly.offline.plot(go.Figure(data=data, layout=go.Layout(title=alpha_measure)), filename=\"alpha_boxplots/\"+metadata_category+\"_\"+alpha_measure+\".html\")"
   ]
  },
  {
   "cell_type": "code",
   "execution_count": 17,
   "metadata": {},
   "outputs": [],
   "source": [
    "alpha_boxplot('mode_of_delivery', 'faith_pd')\n",
    "alpha_boxplot('mode_of_delivery', 'shannon')\n",
    "alpha_boxplot('mode_of_delivery', 'observed_otus')"
   ]
  },
  {
   "cell_type": "code",
   "execution_count": 18,
   "metadata": {},
   "outputs": [],
   "source": [
    "alpha_boxplot('blood_group', 'faith_pd')\n",
    "alpha_boxplot('blood_group', 'shannon')\n",
    "alpha_boxplot('blood_group', 'observed_otus')"
   ]
  },
  {
   "cell_type": "code",
   "execution_count": null,
   "metadata": {},
   "outputs": [],
   "source": []
  }
 ],
 "metadata": {
  "kernelspec": {
   "display_name": "Environment (conda_qiime2-2019.4)",
   "language": "python",
   "name": "conda_qiime2-2019.4"
  },
  "language_info": {
   "codemirror_mode": {
    "name": "ipython",
    "version": 3
   },
   "file_extension": ".py",
   "mimetype": "text/x-python",
   "name": "python",
   "nbconvert_exporter": "python",
   "pygments_lexer": "ipython3",
   "version": "3.6.7"
  }
 },
 "nbformat": 4,
 "nbformat_minor": 2
}
